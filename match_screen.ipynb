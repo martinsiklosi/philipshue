{
 "cells": [
  {
   "cell_type": "code",
   "execution_count": 1,
   "metadata": {},
   "outputs": [],
   "source": [
    "from time import sleep\n",
    "\n",
    "from lights import Light, get_lights\n",
    "from screen import avg_screen_rgb"
   ]
  },
  {
   "cell_type": "code",
   "execution_count": 2,
   "metadata": {},
   "outputs": [],
   "source": [
    "lights = get_lights()\n",
    "rgb_lights = []\n",
    "white_lights = []\n",
    "for light in lights:\n",
    "    if light.supports_rgb:\n",
    "        rgb_lights.append(light)\n",
    "    else:\n",
    "        white_lights.append(light)"
   ]
  },
  {
   "cell_type": "code",
   "execution_count": 3,
   "metadata": {},
   "outputs": [],
   "source": [
    "for light in white_lights:\n",
    "    light.set_state(on=False)\n",
    "    \n",
    "for light in rgb_lights:\n",
    "    light.set_state(on=True)"
   ]
  },
  {
   "cell_type": "code",
   "execution_count": 4,
   "metadata": {},
   "outputs": [],
   "source": [
    "trans_time_ms = 700\n",
    "while True:\n",
    "    rgb_values = avg_screen_rgb(segments=len(rgb_lights))\n",
    "    for light, rgb_value in zip(rgb_lights, rgb_values):\n",
    "        light.set_state(rgb=rgb_value, time_ms=trans_time_ms)"
   ]
  }
 ],
 "metadata": {
  "kernelspec": {
   "display_name": "Python 3",
   "language": "python",
   "name": "python3"
  },
  "language_info": {
   "codemirror_mode": {
    "name": "ipython",
    "version": 3
   },
   "file_extension": ".py",
   "mimetype": "text/x-python",
   "name": "python",
   "nbconvert_exporter": "python",
   "pygments_lexer": "ipython3",
   "version": "3.9.9"
  },
  "orig_nbformat": 4
 },
 "nbformat": 4,
 "nbformat_minor": 2
}
